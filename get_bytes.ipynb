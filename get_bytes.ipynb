{
 "cells": [
  {
   "cell_type": "code",
   "execution_count": 13,
   "id": "1f000ec0",
   "metadata": {},
   "outputs": [
    {
     "name": "stdout",
     "output_type": "stream",
     "text": [
      "C:\\data\\events\\radar\\stage\\KGRR19920127_132343 C:\\data\\events\\radar\\KGRR/KGRR19920127_132343\n",
      "C:\\data\\events\\radar\\stage\\KGRR19920127_133000 C:\\data\\events\\radar\\KGRR/KGRR19920127_133000\n",
      "C:\\data\\events\\radar\\stage\\KGRR19920127_133546 C:\\data\\events\\radar\\KGRR/KGRR19920127_133546\n",
      "C:\\data\\events\\radar\\stage\\KGRR19920127_134204 C:\\data\\events\\radar\\KGRR/KGRR19920127_134204\n",
      "C:\\data\\events\\radar\\stage\\KGRR19920127_134751 C:\\data\\events\\radar\\KGRR/KGRR19920127_134751\n",
      "C:\\data\\events\\radar\\stage\\KGRR19920127_135408 C:\\data\\events\\radar\\KGRR/KGRR19920127_135408\n",
      "C:\\data\\events\\radar\\stage\\KGRR19920127_140025 C:\\data\\events\\radar\\KGRR/KGRR19920127_140025\n",
      "C:\\data\\events\\radar\\stage\\KGRR19920127_140057 C:\\data\\events\\radar\\KGRR/KGRR19920127_140057\n",
      "C:\\data\\events\\radar\\stage\\KGRR19920127_140732 C:\\data\\events\\radar\\KGRR/KGRR19920127_140732\n",
      "C:\\data\\events\\radar\\stage\\KGRR19920127_141357 C:\\data\\events\\radar\\KGRR/KGRR19920127_141357\n",
      "C:\\data\\events\\radar\\stage\\KGRR19920127_142023 C:\\data\\events\\radar\\KGRR/KGRR19920127_142023\n",
      "C:\\data\\events\\radar\\stage\\KGRR19920127_142649 C:\\data\\events\\radar\\KGRR/KGRR19920127_142649\n",
      "C:\\data\\events\\radar\\stage\\KGRR19920127_143351 C:\\data\\events\\radar\\KGRR/KGRR19920127_143351\n",
      "C:\\data\\events\\radar\\stage\\KGRR19920127_144051 C:\\data\\events\\radar\\KGRR/KGRR19920127_144051\n",
      "C:\\data\\events\\radar\\stage\\KGRR19920127_144752 C:\\data\\events\\radar\\KGRR/KGRR19920127_144752\n",
      "C:\\data\\events\\radar\\stage\\KGRR19920127_145439 C:\\data\\events\\radar\\KGRR/KGRR19920127_145439\n",
      "C:\\data\\events\\radar\\stage\\KGRR19920127_150105 C:\\data\\events\\radar\\KGRR/KGRR19920127_150105\n"
     ]
    }
   ],
   "source": [
    "from time import sleep\n",
    "from pathlib import Path\n",
    "import shutil\n",
    "import os\n",
    "source_dir = 'C:/data/events/radar/stage'\n",
    "dest_dir = 'C:/data/events/radar/KGRR'\n",
    "p = Path(source_dir)\n",
    "d = Path(dest_dir)\n",
    "dirFile = d.joinpath('dir.list')\n",
    "try:\n",
    "    dirFile.unlink()\n",
    "except:\n",
    "    pass\n",
    "\n",
    "files = list(p.glob('*'))\n",
    "dir_list_lines = []\n",
    "\n",
    "output = ''\n",
    "for f in files:\n",
    "    sleep(30)\n",
    "    line = f'{f.stat().st_size} {f.parts[-1]}\\n'\n",
    "    src = str(Path(f))\n",
    "    target = f'{str(d)}/{str(f.parts[-1])}'\n",
    "    print(src,target)\n",
    "    #q.rename(target,q.parts[-1])\n",
    "    shutil.move(src,target)\n",
    "    output = output + line\n",
    "    #print(line)\n",
    "    with open(dirFile,mode='w') as fout:\n",
    "        fout.write(output)"
   ]
  },
  {
   "cell_type": "code",
   "execution_count": null,
   "id": "6653373b",
   "metadata": {},
   "outputs": [],
   "source": []
  }
 ],
 "metadata": {
  "kernelspec": {
   "display_name": "Python 3 (ipykernel)",
   "language": "python",
   "name": "python3"
  },
  "language_info": {
   "codemirror_mode": {
    "name": "ipython",
    "version": 3
   },
   "file_extension": ".py",
   "mimetype": "text/x-python",
   "name": "python",
   "nbconvert_exporter": "python",
   "pygments_lexer": "ipython3",
   "version": "3.9.7"
  }
 },
 "nbformat": 4,
 "nbformat_minor": 5
}
